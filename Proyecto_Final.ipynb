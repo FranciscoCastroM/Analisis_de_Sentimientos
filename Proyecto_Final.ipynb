{
  "nbformat": 4,
  "nbformat_minor": 0,
  "metadata": {
    "colab": {
      "name": "Proyecto_Final.ipynb",
      "provenance": [],
      "collapsed_sections": []
    },
    "kernelspec": {
      "name": "python3",
      "display_name": "Python 3"
    },
    "language_info": {
      "name": "python"
    }
  },
  "cells": [
    {
      "cell_type": "markdown",
      "source": [
        "#Análisis de sentimientos"
      ],
      "metadata": {
        "id": "nvNzrQn9CxIw"
      }
    },
    {
      "cell_type": "code",
      "execution_count": null,
      "metadata": {
        "id": "mHlDX3Pv-WGF"
      },
      "outputs": [],
      "source": [
        "import numpy as np \n",
        "import pandas as pd \n",
        "import os\n",
        "import matplotlib.pyplot as plt\n",
        "import seaborn as sns"
      ]
    },
    {
      "cell_type": "code",
      "source": [
        "from google.colab import drive\n",
        "drive.mount('/content/drive')"
      ],
      "metadata": {
        "colab": {
          "base_uri": "https://localhost:8080/"
        },
        "id": "q1r58Xrn-fzr",
        "outputId": "22fdf716-f4b2-44e1-8d3b-9b696af88cb6"
      },
      "execution_count": null,
      "outputs": [
        {
          "output_type": "stream",
          "name": "stdout",
          "text": [
            "Mounted at /content/drive\n"
          ]
        }
      ]
    },
    {
      "cell_type": "code",
      "source": [
        "dataset= pd.read_csv('/content/drive/MyDrive/Colab Notebooks/SeminarioIA/Dataset/IMDB Dataset.csv')\n",
        "df_positive = dataset[dataset['sentiment']=='positive']\n",
        "df_negative = dataset[dataset['sentiment']=='negative']\n",
        "\n",
        "df_review_imb = pd.concat([df_positive,df_negative ])\n",
        "dataset.sentiment.value_counts()"
      ],
      "metadata": {
        "colab": {
          "base_uri": "https://localhost:8080/"
        },
        "id": "Z46cxG_e-utP",
        "outputId": "d99958b7-b947-478e-fa61-bda0e93647c2"
      },
      "execution_count": null,
      "outputs": [
        {
          "output_type": "execute_result",
          "data": {
            "text/plain": [
              "positive    25000\n",
              "negative    25000\n",
              "Name: sentiment, dtype: int64"
            ]
          },
          "metadata": {},
          "execution_count": 6
        }
      ]
    },
    {
      "cell_type": "code",
      "source": [
        "colors = sns.color_palette('deep')\n",
        "\n",
        "plt.figure(figsize=(8,4), tight_layout=True)\n",
        "plt.bar(x=['Positive', 'Negative'],\n",
        "        height=df_review_imb.value_counts(['sentiment']),\n",
        "        color=colors[:2])\n",
        "plt.title('Sentiment')\n",
        "plt.savefig('sentiment.png')\n",
        "plt.show()"
      ],
      "metadata": {
        "colab": {
          "base_uri": "https://localhost:8080/",
          "height": 297
        },
        "id": "b1e9QNgRB9iv",
        "outputId": "0977b3d4-3b1a-46fd-f696-76535ed02927"
      },
      "execution_count": null,
      "outputs": [
        {
          "output_type": "display_data",
          "data": {
            "text/plain": [
              "<Figure size 576x288 with 1 Axes>"
            ],
            "image/png": "[encoded data removed]"
          },
          "metadata": {
            "needs_background": "light"
          }
        }
      ]
    },
    {
      "cell_type": "code",
      "source": [
        "dataset"
      ],
      "metadata": {
        "colab": {
          "base_uri": "https://localhost:8080/",
          "height": 424
        },
        "id": "bt-8LkP7FK5i",
        "outputId": "1f25c7a5-ca3a-4e44-9df0-6534dace9ae1"
      },
      "execution_count": null,
      "outputs": [
        {
          "output_type": "execute_result",
          "data": {
            "text/plain": [
              "                                                  review sentiment\n",
              "0      One of the other reviewers has mentioned that ...  positive\n",
              "1      A wonderful little production. <br /><br />The...  positive\n",
              "2      I thought this was a wonderful way to spend ti...  positive\n",
              "3      Basically there's a family where a little boy ...  negative\n",
              "4      Petter Mattei's \"Love in the Time of Money\" is...  positive\n",
              "...                                                  ...       ...\n",
              "49995  I thought this movie did a down right good job...  positive\n",
              "49996  Bad plot, bad dialogue, bad acting, idiotic di...  negative\n",
              "49997  I am a Catholic taught in parochial elementary...  negative\n",
              "49998  I'm going to have to disagree with the previou...  negative\n",
              "49999  No one expects the Star Trek movies to be high...  negative\n",
              "\n",
              "[50000 rows x 2 columns]"
            ],
            "text/html": [
              "\n",
              "  <div id=\"df-9d94412e-0e1b-4e86-b29a-a7271b5d882b\">\n",
              "    <div class=\"colab-df-container\">\n",
              "      <div>\n",
              "<style scoped>\n",
              "    .dataframe tbody tr th:only-of-type {\n",
              "        vertical-align: middle;\n",
              "    }\n",
              "\n",
              "    .dataframe tbody tr th {\n",
              "        vertical-align: top;\n",
              "    }\n",
              "\n",
              "    .dataframe thead th {\n",
              "        text-align: right;\n",
              "    }\n",
              "</style>\n",
              "<table border=\"1\" class=\"dataframe\">\n",
              "  <thead>\n",
              "    <tr style=\"text-align: right;\">\n",
              "      <th></th>\n",
              "      <th>review</th>\n",
              "      <th>sentiment</th>\n",
              "    </tr>\n",
              "  </thead>\n",
              "  <tbody>\n",
              "    <tr>\n",
              "      <th>0</th>\n",
              "      <td>One of the other reviewers has mentioned that ...</td>\n",
              "      <td>positive</td>\n",
              "    </tr>\n",
              "    <tr>\n",
              "      <th>1</th>\n",
              "      <td>A wonderful little production. &lt;br /&gt;&lt;br /&gt;The...</td>\n",
              "      <td>positive</td>\n",
              "    </tr>\n",
              "    <tr>\n",
              "      <th>2</th>\n",
              "      <td>I thought this was a wonderful way to spend ti...</td>\n",
              "      <td>positive</td>\n",
              "    </tr>\n",
              "    <tr>\n",
              "      <th>3</th>\n",
              "      <td>Basically there's a family where a little boy ...</td>\n",
              "      <td>negative</td>\n",
              "    </tr>\n",
              "    <tr>\n",
              "      <th>4</th>\n",
              "      <td>Petter Mattei's \"Love in the Time of Money\" is...</td>\n",
              "      <td>positive</td>\n",
              "    </tr>\n",
              "    <tr>\n",
              "      <th>...</th>\n",
              "      <td>...</td>\n",
              "      <td>...</td>\n",
              "    </tr>\n",
              "    <tr>\n",
              "      <th>49995</th>\n",
              "      <td>I thought this movie did a down right good job...</td>\n",
              "      <td>positive</td>\n",
              "    </tr>\n",
              "    <tr>\n",
              "      <th>49996</th>\n",
              "      <td>Bad plot, bad dialogue, bad acting, idiotic di...</td>\n",
              "      <td>negative</td>\n",
              "    </tr>\n",
              "    <tr>\n",
              "      <th>49997</th>\n",
              "      <td>I am a Catholic taught in parochial elementary...</td>\n",
              "      <td>negative</td>\n",
              "    </tr>\n",
              "    <tr>\n",
              "      <th>49998</th>\n",
              "      <td>I'm going to have to disagree with the previou...</td>\n",
              "      <td>negative</td>\n",
              "    </tr>\n",
              "    <tr>\n",
              "      <th>49999</th>\n",
              "      <td>No one expects the Star Trek movies to be high...</td>\n",
              "      <td>negative</td>\n",
              "    </tr>\n",
              "  </tbody>\n",
              "</table>\n",
              "<p>50000 rows × 2 columns</p>\n",
              "</div>\n",
              "      <button class=\"colab-df-convert\" onclick=\"convertToInteractive('df-9d94412e-0e1b-4e86-b29a-a7271b5d882b')\"\n",
              "              title=\"Convert this dataframe to an interactive table.\"\n",
              "              style=\"display:none;\">\n",
              "        \n",
              "  <svg xmlns=\"http://www.w3.org/2000/svg\" height=\"24px\"viewBox=\"0 0 24 24\"\n",
              "       width=\"24px\">\n",
              "    <path d=\"M0 0h24v24H0V0z\" fill=\"none\"/>\n",
              "    <path d=\"M18.56 5.44l.94 2.06.94-2.06 2.06-.94-2.06-.94-.94-2.06-.94 2.06-2.06.94zm-11 1L8.5 8.5l.94-2.06 2.06-.94-2.06-.94L8.5 2.5l-.94 2.06-2.06.94zm10 10l.94 2.06.94-2.06 2.06-.94-2.06-.94-.94-2.06-.94 2.06-2.06.94z\"/><path d=\"M17.41 7.96l-1.37-1.37c-.4-.4-.92-.59-1.43-.59-.52 0-1.04.2-1.43.59L10.3 9.45l-7.72 7.72c-.78.78-.78 2.05 0 2.83L4 21.41c.39.39.9.59 1.41.59.51 0 1.02-.2 1.41-.59l7.78-7.78 2.81-2.81c.8-.78.8-2.07 0-2.86zM5.41 20L4 18.59l7.72-7.72 1.47 1.35L5.41 20z\"/>\n",
              "  </svg>\n",
              "      </button>\n",
              "      \n",
              "  <style>\n",
              "    .colab-df-container {\n",
              "      display:flex;\n",
              "      flex-wrap:wrap;\n",
              "      gap: 12px;\n",
              "    }\n",
              "\n",
              "    .colab-df-convert {\n",
              "      background-color: #E8F0FE;\n",
              "      border: none;\n",
              "      border-radius: 50%;\n",
              "      cursor: pointer;\n",
              "      display: none;\n",
              "      fill: #1967D2;\n",
              "      height: 32px;\n",
              "      padding: 0 0 0 0;\n",
              "      width: 32px;\n",
              "    }\n",
              "\n",
              "    .colab-df-convert:hover {\n",
              "      background-color: #E2EBFA;\n",
              "      box-shadow: 0px 1px 2px rgba(60, 64, 67, 0.3), 0px 1px 3px 1px rgba(60, 64, 67, 0.15);\n",
              "      fill: #174EA6;\n",
              "    }\n",
              "\n",
              "    [theme=dark] .colab-df-convert {\n",
              "      background-color: #3B4455;\n",
              "      fill: #D2E3FC;\n",
              "    }\n",
              "\n",
              "    [theme=dark] .colab-df-convert:hover {\n",
              "      background-color: #434B5C;\n",
              "      box-shadow: 0px 1px 3px 1px rgba(0, 0, 0, 0.15);\n",
              "      filter: drop-shadow(0px 1px 2px rgba(0, 0, 0, 0.3));\n",
              "      fill: #FFFFFF;\n",
              "    }\n",
              "  </style>\n",
              "\n",
              "      <script>\n",
              "        const buttonEl =\n",
              "          document.querySelector('#df-9d94412e-0e1b-4e86-b29a-a7271b5d882b button.colab-df-convert');\n",
              "        buttonEl.style.display =\n",
              "          google.colab.kernel.accessAllowed ? 'block' : 'none';\n",
              "\n",
              "        async function convertToInteractive(key) {\n",
              "          const element = document.querySelector('#df-9d94412e-0e1b-4e86-b29a-a7271b5d882b');\n",
              "          const dataTable =\n",
              "            await google.colab.kernel.invokeFunction('convertToInteractive',\n",
              "                                                     [key], {});\n",
              "          if (!dataTable) return;\n",
              "\n",
              "          const docLinkHtml = 'Like what you see? Visit the ' +\n",
              "            '<a target=\"_blank\" href=https://colab.research.google.com/notebooks/data_table.ipynb>data table notebook</a>'\n",
              "            + ' to learn more about interactive tables.';\n",
              "          element.innerHTML = '';\n",
              "          dataTable['output_type'] = 'display_data';\n",
              "          await google.colab.output.renderOutput(dataTable, element);\n",
              "          const docLink = document.createElement('div');\n",
              "          docLink.innerHTML = docLinkHtml;\n",
              "          element.appendChild(docLink);\n",
              "        }\n",
              "      </script>\n",
              "    </div>\n",
              "  </div>\n",
              "  "
            ]
          },
          "metadata": {},
          "execution_count": 8
        }
      ]
    },
    {
      "cell_type": "markdown",
      "source": [
        "##Prueba sin Pre-procesado"
      ],
      "metadata": {
        "id": "Q8GVih4zFpJq"
      }
    },
    {
      "cell_type": "markdown",
      "source": [
        "**Term frequency - Inverse document frequency**\n",
        "\n",
        "Utilizaremos el vectorizador TF-IDF pre-construido de la biblioteca sklearn. Creando una matriz de términos de documentos (DTM) utilizando TF-IDF.\n",
        "\n",
        "- Es una técnica que expresa que tan relevante es una palabra para un documento (texto).\n",
        "- TF-IDF es el producto de dos medidas\n",
        "    - **Term Frequency:** Mide el número de veces que un término (palabra) aparece en el documento.\n",
        "    - **Inverse Document Frequency:** Mide si el término es común o no, en el documento."
      ],
      "metadata": {
        "id": "WG3reCqRFYmV"
      }
    },
    {
      "cell_type": "code",
      "source": [
        "import sklearn\n",
        "from sklearn.feature_extraction.text import TfidfVectorizer\n",
        "tfidf = TfidfVectorizer(min_df=2, max_df=0.5, ngram_range=(1,2))\n",
        "text_count_matrix = tfidf.fit_transform(dataset.review)"
      ],
      "metadata": {
        "id": "EcTmniGJFSrY"
      },
      "execution_count": null,
      "outputs": []
    },
    {
      "cell_type": "code",
      "source": [
        "#División del dataset en un conjunto de entrenamiento y de prueba\n",
        "from sklearn.model_selection import train_test_split\n",
        "x_train, x_test, y_train, y_test = train_test_split(text_count_matrix, dataset.sentiment, test_size=0.30, random_state=2)"
      ],
      "metadata": {
        "id": "uZpA2JyJFUZZ"
      },
      "execution_count": null,
      "outputs": []
    },
    {
      "cell_type": "code",
      "source": [
        "#Convertimos los sentimientos (positivos y negativos) en valores 1 y 0\n",
        "y_train = (y_train.replace({'positive': 1, 'negative': 0})).values\n",
        "y_test = (y_test.replace({'positive': 1, 'negative': 0})).values"
      ],
      "metadata": {
        "id": "IQ30dD-JFWE5"
      },
      "execution_count": null,
      "outputs": []
    },
    {
      "cell_type": "code",
      "source": [
        "# Usamos el modelo de Multinomial Naive Bayes para realizar un ajuste\n",
        "from sklearn.naive_bayes import MultinomialNB \n",
        "MNB = MultinomialNB()\n",
        "MNB.fit(x_train, y_train)\n",
        "#Se evalua el modelo\n",
        "from sklearn import metrics\n",
        "accuracy_score = metrics.accuracy_score(MNB.predict(x_test), y_test)\n",
        "print(\"accuracy_score without data pre-processing = \" + str('{:04.2f}'.format(accuracy_score*100))+\" %\")"
      ],
      "metadata": {
        "colab": {
          "base_uri": "https://localhost:8080/"
        },
        "id": "HsOhMwRBFX6c",
        "outputId": "73642c84-bf8d-4457-cacb-1b232bb1ff1a"
      },
      "execution_count": null,
      "outputs": [
        {
          "output_type": "stream",
          "name": "stdout",
          "text": [
            "accuracy_score without data pre-processing = 89.17 %\n"
          ]
        }
      ]
    },
    {
      "cell_type": "markdown",
      "source": [
        "## Librería NLTK y datos adicionales"
      ],
      "metadata": {
        "id": "gwLfz4LXD1BV"
      }
    },
    {
      "cell_type": "code",
      "source": [
        "import nltk\n",
        "nltk.download('stopwords')\n",
        "nltk.download('punkt')"
      ],
      "metadata": {
        "colab": {
          "base_uri": "https://localhost:8080/"
        },
        "id": "davcQQ2oKTMk",
        "outputId": "5a950e66-e788-49fa-c109-f89eb8e600b1"
      },
      "execution_count": null,
      "outputs": [
        {
          "output_type": "stream",
          "name": "stdout",
          "text": [
            "[nltk_data] Downloading package stopwords to /root/nltk_data...\n",
            "[nltk_data]   Unzipping corpora/stopwords.zip.\n",
            "[nltk_data] Downloading package punkt to /root/nltk_data...\n",
            "[nltk_data]   Unzipping tokenizers/punkt.zip.\n"
          ]
        },
        {
          "output_type": "execute_result",
          "data": {
            "text/plain": [
              "True"
            ]
          },
          "metadata": {},
          "execution_count": 13
        }
      ]
    },
    {
      "cell_type": "markdown",
      "source": [
        "##Preprocesamiento de los datos"
      ],
      "metadata": {
        "id": "-TPIHzNeEBbv"
      }
    },
    {
      "cell_type": "code",
      "source": [
        "import re\n",
        "from nltk.corpus import stopwords\n",
        "from nltk.tokenize import word_tokenize\n",
        "stop_words = set(stopwords.words('english'))\n",
        "lemmatizer = nltk.stem.WordNetLemmatizer()\n",
        "#print(df.review[4])\n",
        "\n",
        "processed_review = []\n",
        "single_review = \"string to iniialize <br /> my email id is charilie@waoow.com. You can also reach to me at charlie's \"\n",
        "reviews = dataset.review\n",
        "for review in range(0,50000):\n",
        "    single_review = dataset.loc[review,'review']\n",
        "    \n",
        "    #Se comenza el procesado con una sola opinion \n",
        "    \n",
        "    #Removemos etiquetas html\n",
        "    single_review = re.sub('<.*?>',' ',single_review)\n",
        "    #Removemos caracteres especiales '@,!' e.t.c.\n",
        "    single_review = re.sub('\\W',' ',single_review)\n",
        "    #Removemos caracteres unicos\n",
        "    single_review = re.sub('\\s+[a-zA-Z]\\s+',' ', single_review)\n",
        "    #Sustituimos multiples espacios por uno solo\n",
        "    single_review = re.sub('\\s+',' ', single_review)\n",
        "   \n",
        "    #removemos las stopwords\n",
        "    word_tokens = word_tokenize(single_review)\n",
        "    #lematización\n",
        "    filtered_sentence = []\n",
        "    filtered_sentence2 = \" \".join([w for w in word_tokens if w not in stop_words])\n",
        "    \n",
        "    \n",
        "    #Compilamos las oraciones para hacer un diccionario completo del texto procesado\n",
        "    processed_review.append(filtered_sentence2)\n",
        "    \n",
        "print(processed_review[10])\n"
      ],
      "metadata": {
        "colab": {
          "base_uri": "https://localhost:8080/"
        },
        "id": "pdLjEq_9KKUO",
        "outputId": "a3b9161d-e79d-48e4-d7c7-bdbe45a24263"
      },
      "execution_count": null,
      "outputs": [
        {
          "output_type": "stream",
          "name": "stdout",
          "text": [
            "Phil Alien one quirky films humour based around oddness everything rather actual punchlines At first odd pretty funny movie progressed find jokes oddness funny anymore Its low budget film thats never problem pretty interesting characters eventually lost interest imagine film would appeal stoner currently partaking For something similar better try Brother another planet\n"
          ]
        }
      ]
    },
    {
      "cell_type": "code",
      "source": [
        "text_count_matrix2 = tfidf.fit_transform(processed_review)"
      ],
      "metadata": {
        "id": "W8uZMpzhExix"
      },
      "execution_count": null,
      "outputs": []
    },
    {
      "cell_type": "code",
      "source": [
        "X_train, X_test, Y_train, Y_test = train_test_split(text_count_matrix2, dataset.sentiment, test_size=0.30, random_state=2)"
      ],
      "metadata": {
        "id": "GMseLUTsTXvN"
      },
      "execution_count": null,
      "outputs": []
    },
    {
      "cell_type": "code",
      "source": [
        "Y_train = (Y_train.replace({'positive': 1, 'negative': 0})).values\n",
        "Y_test = (Y_test.replace({'positive': 1, 'negative': 0})).values"
      ],
      "metadata": {
        "id": "pVZEkYiIKHL2"
      },
      "execution_count": null,
      "outputs": []
    },
    {
      "cell_type": "markdown",
      "source": [
        "##Multinomial Naive Bayes"
      ],
      "metadata": {
        "id": "5zDnGsJ5gzf3"
      }
    },
    {
      "cell_type": "markdown",
      "source": [
        "Este tipo de análisis estadístico se utiliza a menudo para el análisis predictivo y el modelado, y se extiende a las aplicaciones del aprendizaje automático. En este enfoque analítico, la variable dependiente es finita o categórica.\n",
        "Se utiliza en el software estadístico para comprender la relación entre la variable dependiente y una o más variables independientes mediante la estimación de probabilidades utilizando una ecuación de regresión logística."
      ],
      "metadata": {
        "id": "QC6TU4sFxeDj"
      }
    },
    {
      "cell_type": "code",
      "source": [
        "MNB.fit(X_train, Y_train)\n",
        "# Evaluamos el modelo\n",
        "MNBaccuracy_score = metrics.accuracy_score(MNB.predict(X_test), Y_test)"
      ],
      "metadata": {
        "id": "07nMdMNsTlCz"
      },
      "execution_count": null,
      "outputs": []
    },
    {
      "cell_type": "code",
      "source": [
        "from sklearn.metrics import classification_report, confusion_matrix\n",
        "print(\"MNB accuracy = \" + str('{:04.2f}'.format(accuracy_score*100))+\" %\")\n",
        "print(\"Classification Report: \\n\", classification_report(Y_test, MNB.predict(X_test),target_names=['Negative','Positive']))\n",
        "print(\"Confusion Matrix: \\n\", confusion_matrix(Y_test, MNB.predict(X_test)))"
      ],
      "metadata": {
        "colab": {
          "base_uri": "https://localhost:8080/"
        },
        "id": "eUgyauCnT_Jv",
        "outputId": "d472a31f-579d-4d42-94f5-c9534865bbeb"
      },
      "execution_count": null,
      "outputs": [
        {
          "output_type": "stream",
          "name": "stdout",
          "text": [
            "MNB accuracy = 89.17 %\n",
            "Classification Report: \n",
            "               precision    recall  f1-score   support\n",
            "\n",
            "    Negative       0.89      0.89      0.89      7499\n",
            "    Positive       0.89      0.89      0.89      7501\n",
            "\n",
            "    accuracy                           0.89     15000\n",
            "   macro avg       0.89      0.89      0.89     15000\n",
            "weighted avg       0.89      0.89      0.89     15000\n",
            "\n",
            "Confusion Matrix: \n",
            " [[6689  810]\n",
            " [ 798 6703]]\n"
          ]
        }
      ]
    },
    {
      "cell_type": "markdown",
      "source": [
        "## Máquina de Vector de Soporte \n"
      ],
      "metadata": {
        "id": "4AcKGHwEg7tE"
      }
    },
    {
      "cell_type": "markdown",
      "source": [
        "El objetivo del algoritmo de la máquina de vectores de soporte es encontrar un hiperplano en un espacio de N dimensiones que clasifique claramente los puntos de datos. Después de dar a un modelo SVM conjuntos de datos de entrenamiento etiquetados para cada categoría, son capaces de categorizar un nuevo texto."
      ],
      "metadata": {
        "id": "gZLEJvj_wo7B"
      }
    },
    {
      "cell_type": "code",
      "source": [
        "from sklearn.linear_model import LogisticRegression, SGDClassifier\n",
        "from sklearn.svm import LinearSVC"
      ],
      "metadata": {
        "id": "LyeKJ-gXXDhj"
      },
      "execution_count": null,
      "outputs": []
    },
    {
      "cell_type": "code",
      "source": [
        "LSVC = LinearSVC()\n",
        "LSVC.fit(X_train, Y_train)\n",
        "SVGaccuracy_score = metrics.accuracy_score(LSVC.predict(X_test), Y_test)\n",
        "print(\"Linear SVC accuracy = \" + str('{:04.2f}'.format(accuracy_score*100))+\" %\")\n",
        "print(\"Classification Report: \\n\", classification_report(Y_test, LSVC.predict(X_test),target_names=['Negative','Positive']))\n",
        "print(\"Confusion Matrix: \\n\", confusion_matrix(Y_test, LSVC.predict(X_test)))"
      ],
      "metadata": {
        "colab": {
          "base_uri": "https://localhost:8080/"
        },
        "id": "zcGV7Q4KXHS-",
        "outputId": "8365d0a5-6da3-41e2-ccdc-f84b09f261f7"
      },
      "execution_count": null,
      "outputs": [
        {
          "output_type": "stream",
          "name": "stdout",
          "text": [
            "Linear SVC accuracy = 89.17 %\n",
            "Classification Report: \n",
            "               precision    recall  f1-score   support\n",
            "\n",
            "    Negative       0.92      0.90      0.91      7499\n",
            "    Positive       0.90      0.92      0.91      7501\n",
            "\n",
            "    accuracy                           0.91     15000\n",
            "   macro avg       0.91      0.91      0.91     15000\n",
            "weighted avg       0.91      0.91      0.91     15000\n",
            "\n",
            "Confusion Matrix: \n",
            " [[6746  753]\n",
            " [ 578 6923]]\n"
          ]
        }
      ]
    },
    {
      "cell_type": "markdown",
      "source": [
        "##Regresión Logística"
      ],
      "metadata": {
        "id": "ejH0cSwjhYCu"
      }
    },
    {
      "cell_type": "markdown",
      "source": [
        "Este tipo de análisis estadístico se utiliza a menudo para el análisis predictivo y el modelado, y se extiende a las aplicaciones del aprendizaje automático. En este enfoque analítico, la variable dependiente es finita o categórica.\n",
        "Se utiliza en el software estadístico para comprender la relación entre la variable dependiente y una o más variables independientes mediante la estimación de probabilidades utilizando una ecuación de regresión logística. "
      ],
      "metadata": {
        "id": "Gd2iGaZdwfNO"
      }
    },
    {
      "cell_type": "code",
      "source": [
        "LR = LogisticRegression()\n",
        "LR.fit(X_train, Y_train)\n",
        "predict = LR.predict(X_test)\n",
        "LRaccuracy_score = metrics.accuracy_score(predict, Y_test)\n",
        "print(\"LR = \" + str('{:04.2f}'.format(accuracy_score*100))+\" %\")\n",
        "print(\"Classification Report: \\n\", classification_report(Y_test, predict,target_names=['Negative','Positive']))\n",
        "print(\"Confusion Matrix: \\n\", confusion_matrix(Y_test, predict))"
      ],
      "metadata": {
        "id": "usSn0jLtaJfu",
        "outputId": "27883ce0-d562-4573-f358-7c6a46473e2c",
        "colab": {
          "base_uri": "https://localhost:8080/"
        }
      },
      "execution_count": null,
      "outputs": [
        {
          "output_type": "stream",
          "name": "stdout",
          "text": [
            "LR = 89.17 %\n",
            "Classification Report: \n",
            "               precision    recall  f1-score   support\n",
            "\n",
            "    Negative       0.91      0.88      0.90      7499\n",
            "    Positive       0.89      0.91      0.90      7501\n",
            "\n",
            "    accuracy                           0.90     15000\n",
            "   macro avg       0.90      0.90      0.90     15000\n",
            "weighted avg       0.90      0.90      0.90     15000\n",
            "\n",
            "Confusion Matrix: \n",
            " [[6611  888]\n",
            " [ 645 6856]]\n"
          ]
        }
      ]
    },
    {
      "cell_type": "code",
      "source": [
        "print(\"LR = \" + str('{:04.2f}'.format(LRaccuracy_score*100))+\" %\")\n",
        "print(\"Linear SVC accuracy = \" + str('{:04.2f}'.format(SVGaccuracy_score*100))+\" %\")\n",
        "print(\"MNB accuracy = \" + str('{:04.2f}'.format(MNBaccuracy_score*100))+\" %\")\n"
      ],
      "metadata": {
        "colab": {
          "base_uri": "https://localhost:8080/"
        },
        "id": "GpJSrZScqHxR",
        "outputId": "f193e1f4-1a65-4c6e-b524-5c00e3f544c1"
      },
      "execution_count": null,
      "outputs": [
        {
          "output_type": "stream",
          "name": "stdout",
          "text": [
            "LR = 89.78 %\n",
            "Linear SVC accuracy = 91.13 %\n",
            "MNB accuracy = 89.28 %\n"
          ]
        }
      ]
    },
    {
      "cell_type": "markdown",
      "source": [
        "##Prueba con comentarios "
      ],
      "metadata": {
        "id": "DR6fsdiuF38R"
      }
    },
    {
      "cell_type": "code",
      "source": [
        "print(LSVC.predict(tfidf.transform(['While is not the worst superhero comic book adventure ever to grace the multiplex, its likely the most frustratingly disappointing.'])))\n",
        "print(LSVC.predict(tfidf.transform(['Batman v. Superman: Dawn of Justice pits the two titans against each other with beautiful visuals, too many characters, and a borderline nonsensical plot.'])))\n",
        "print(LSVC.predict(tfidf.transform(['As this uneven film grinds to an end, it sets itself up for more shenanigans in more episodes with more super heroes.'])))"
      ],
      "metadata": {
        "colab": {
          "base_uri": "https://localhost:8080/"
        },
        "id": "YGVDjyo8i86q",
        "outputId": "2a0ae136-90e7-42c1-bf57-2a3ea0a280e4"
      },
      "execution_count": null,
      "outputs": [
        {
          "output_type": "stream",
          "name": "stdout",
          "text": [
            "[0]\n",
            "[1]\n",
            "[1]\n"
          ]
        }
      ]
    }
  ]
}